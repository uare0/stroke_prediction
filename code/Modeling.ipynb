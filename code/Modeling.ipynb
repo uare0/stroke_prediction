{
 "cells": [
  {
   "cell_type": "code",
   "execution_count": 1,
   "metadata": {},
   "outputs": [],
   "source": [
    "import numpy as np\n",
    "import pandas as pd\n",
    "import matplotlib.pyplot as plt \n",
    "import seaborn as sns"
   ]
  },
  {
   "cell_type": "code",
   "execution_count": 2,
   "metadata": {},
   "outputs": [],
   "source": [
    "from sklearn.impute import KNNImputer # 교수님이 median, mean같은 단순 imputation은 피하라고 했음\n",
    "from sklearn.model_selection import train_test_split\n",
    "from sklearn.preprocessing import StandardScaler\n",
    "from imblearn.over_sampling import SMOTE"
   ]
  },
  {
   "cell_type": "code",
   "execution_count": 3,
   "metadata": {},
   "outputs": [],
   "source": [
    "from sklearn.ensemble import AdaBoostClassifier\n",
    "from sklearn.ensemble import RandomForestClassifier\n",
    "from sklearn.ensemble import GradientBoostingClassifier\n",
    "from sklearn.metrics import accuracy_score\n",
    "from sklearn.metrics import recall_score\n",
    "from sklearn.metrics import confusion_matrix\n",
    "from sklearn.metrics import f1_score\n",
    "from sklearn.metrics import classification_report\n",
    "from sklearn.preprocessing import normalize"
   ]
  },
  {
   "cell_type": "code",
   "execution_count": 4,
   "metadata": {},
   "outputs": [],
   "source": [
    "from sklearn.metrics import roc_auc_score, plot_roc_curve, precision_score , roc_curve , auc"
   ]
  },
  {
   "cell_type": "code",
   "execution_count": 5,
   "metadata": {},
   "outputs": [
    {
     "data": {
      "text/html": [
       "<div>\n",
       "<style scoped>\n",
       "    .dataframe tbody tr th:only-of-type {\n",
       "        vertical-align: middle;\n",
       "    }\n",
       "\n",
       "    .dataframe tbody tr th {\n",
       "        vertical-align: top;\n",
       "    }\n",
       "\n",
       "    .dataframe thead th {\n",
       "        text-align: right;\n",
       "    }\n",
       "</style>\n",
       "<table border=\"1\" class=\"dataframe\">\n",
       "  <thead>\n",
       "    <tr style=\"text-align: right;\">\n",
       "      <th></th>\n",
       "      <th>id</th>\n",
       "      <th>gender</th>\n",
       "      <th>age</th>\n",
       "      <th>hypertension</th>\n",
       "      <th>heart_disease</th>\n",
       "      <th>ever_married</th>\n",
       "      <th>work_type</th>\n",
       "      <th>Residence_type</th>\n",
       "      <th>avg_glucose_level</th>\n",
       "      <th>bmi</th>\n",
       "      <th>smoking_status</th>\n",
       "      <th>stroke</th>\n",
       "    </tr>\n",
       "  </thead>\n",
       "  <tbody>\n",
       "    <tr>\n",
       "      <th>0</th>\n",
       "      <td>9046</td>\n",
       "      <td>Male</td>\n",
       "      <td>67.0</td>\n",
       "      <td>0</td>\n",
       "      <td>1</td>\n",
       "      <td>Yes</td>\n",
       "      <td>Private</td>\n",
       "      <td>Urban</td>\n",
       "      <td>228.69</td>\n",
       "      <td>36.6</td>\n",
       "      <td>formerly smoked</td>\n",
       "      <td>1</td>\n",
       "    </tr>\n",
       "    <tr>\n",
       "      <th>1</th>\n",
       "      <td>51676</td>\n",
       "      <td>Female</td>\n",
       "      <td>61.0</td>\n",
       "      <td>0</td>\n",
       "      <td>0</td>\n",
       "      <td>Yes</td>\n",
       "      <td>Self-employed</td>\n",
       "      <td>Rural</td>\n",
       "      <td>202.21</td>\n",
       "      <td>NaN</td>\n",
       "      <td>never smoked</td>\n",
       "      <td>1</td>\n",
       "    </tr>\n",
       "    <tr>\n",
       "      <th>2</th>\n",
       "      <td>31112</td>\n",
       "      <td>Male</td>\n",
       "      <td>80.0</td>\n",
       "      <td>0</td>\n",
       "      <td>1</td>\n",
       "      <td>Yes</td>\n",
       "      <td>Private</td>\n",
       "      <td>Rural</td>\n",
       "      <td>105.92</td>\n",
       "      <td>32.5</td>\n",
       "      <td>never smoked</td>\n",
       "      <td>1</td>\n",
       "    </tr>\n",
       "    <tr>\n",
       "      <th>3</th>\n",
       "      <td>60182</td>\n",
       "      <td>Female</td>\n",
       "      <td>49.0</td>\n",
       "      <td>0</td>\n",
       "      <td>0</td>\n",
       "      <td>Yes</td>\n",
       "      <td>Private</td>\n",
       "      <td>Urban</td>\n",
       "      <td>171.23</td>\n",
       "      <td>34.4</td>\n",
       "      <td>smokes</td>\n",
       "      <td>1</td>\n",
       "    </tr>\n",
       "    <tr>\n",
       "      <th>4</th>\n",
       "      <td>1665</td>\n",
       "      <td>Female</td>\n",
       "      <td>79.0</td>\n",
       "      <td>1</td>\n",
       "      <td>0</td>\n",
       "      <td>Yes</td>\n",
       "      <td>Self-employed</td>\n",
       "      <td>Rural</td>\n",
       "      <td>174.12</td>\n",
       "      <td>24.0</td>\n",
       "      <td>never smoked</td>\n",
       "      <td>1</td>\n",
       "    </tr>\n",
       "  </tbody>\n",
       "</table>\n",
       "</div>"
      ],
      "text/plain": [
       "      id  gender   age  hypertension  heart_disease ever_married  \\\n",
       "0   9046    Male  67.0             0              1          Yes   \n",
       "1  51676  Female  61.0             0              0          Yes   \n",
       "2  31112    Male  80.0             0              1          Yes   \n",
       "3  60182  Female  49.0             0              0          Yes   \n",
       "4   1665  Female  79.0             1              0          Yes   \n",
       "\n",
       "       work_type Residence_type  avg_glucose_level   bmi   smoking_status  \\\n",
       "0        Private          Urban             228.69  36.6  formerly smoked   \n",
       "1  Self-employed          Rural             202.21   NaN     never smoked   \n",
       "2        Private          Rural             105.92  32.5     never smoked   \n",
       "3        Private          Urban             171.23  34.4           smokes   \n",
       "4  Self-employed          Rural             174.12  24.0     never smoked   \n",
       "\n",
       "   stroke  \n",
       "0       1  \n",
       "1       1  \n",
       "2       1  \n",
       "3       1  \n",
       "4       1  "
      ]
     },
     "execution_count": 5,
     "metadata": {},
     "output_type": "execute_result"
    }
   ],
   "source": [
    "data=pd.read_csv('healthcare-dataset-stroke-data.csv')\n",
    "data.head()"
   ]
  },
  {
   "cell_type": "markdown",
   "metadata": {},
   "source": [
    "## 1) NA imputation & Oversampling(SMOTE)"
   ]
  },
  {
   "cell_type": "markdown",
   "metadata": {},
   "source": [
    "### KNN impuatation 방법\n",
    "bmi에 있는 na 먼저 처리하자. MAR로 가정하자."
   ]
  },
  {
   "cell_type": "code",
   "execution_count": 6,
   "metadata": {},
   "outputs": [],
   "source": [
    "imputer = KNNImputer(n_neighbors=2)\n",
    "\n",
    "# Selecting numerical columns for imputing missing bmi values\n",
    "df_num = data.select_dtypes(exclude=['object'])\n",
    "array_ = imputer.fit_transform(df_num)\n",
    "\n",
    "# adding the column names back\n",
    "colx = df_num.columns\n",
    "df_num_nn = pd.DataFrame(array_, columns=colx)\n",
    "\n",
    "df_obj = data.select_dtypes(exclude=['int64','float64'])\n",
    "\n",
    "# concatenating the imputed numeric and object columns \n",
    "data = pd.concat([df_obj,df_num_nn], axis=1)"
   ]
  },
  {
   "cell_type": "code",
   "execution_count": 7,
   "metadata": {},
   "outputs": [
    {
     "name": "stdout",
     "output_type": "stream",
     "text": [
      "<class 'pandas.core.frame.DataFrame'>\n",
      "RangeIndex: 5110 entries, 0 to 5109\n",
      "Data columns (total 12 columns):\n",
      " #   Column             Non-Null Count  Dtype  \n",
      "---  ------             --------------  -----  \n",
      " 0   gender             5110 non-null   object \n",
      " 1   ever_married       5110 non-null   object \n",
      " 2   work_type          5110 non-null   object \n",
      " 3   Residence_type     5110 non-null   object \n",
      " 4   smoking_status     5110 non-null   object \n",
      " 5   id                 5110 non-null   float64\n",
      " 6   age                5110 non-null   float64\n",
      " 7   hypertension       5110 non-null   float64\n",
      " 8   heart_disease      5110 non-null   float64\n",
      " 9   avg_glucose_level  5110 non-null   float64\n",
      " 10  bmi                5110 non-null   float64\n",
      " 11  stroke             5110 non-null   float64\n",
      "dtypes: float64(7), object(5)\n",
      "memory usage: 479.2+ KB\n"
     ]
    }
   ],
   "source": [
    "data.info()"
   ]
  },
  {
   "cell_type": "code",
   "execution_count": 8,
   "metadata": {
    "scrolled": false
   },
   "outputs": [
    {
     "data": {
      "text/plain": [
       "<matplotlib.legend.Legend at 0x1be045b0588>"
      ]
     },
     "execution_count": 8,
     "metadata": {},
     "output_type": "execute_result"
    },
    {
     "data": {
      "image/png": "[encoded data removed]",
      "text/plain": [
       "<Figure size 432x288 with 1 Axes>"
      ]
     },
     "metadata": {
      "needs_background": "light"
     },
     "output_type": "display_data"
    }
   ],
   "source": [
    "label_bmi='Mean = {}\\nMedian = {}\\nStandard Deviation = {}'.format(\"%.2f\"%data[\"bmi\"].mean(),data[\"bmi\"].median(), \"%.2f\"%data[\"bmi\"].std())\n",
    "sns.histplot(x=data[\"bmi\"],label=label_bmi).legend(loc='best',fontsize=10)"
   ]
  },
  {
   "cell_type": "code",
   "execution_count": 9,
   "metadata": {},
   "outputs": [],
   "source": [
    "data= data.drop(['id'], axis=1)\n",
    "data[\"Residence_type\"] = data[\"Residence_type\"].apply(lambda x: 1 if x == \"Urban\" else 0)\n",
    "data[\"ever_married\"] = data[\"ever_married\"].apply(lambda x: 1 if x == \"Yes\" else 0)\n",
    "data[\"gender\"] = data[\"gender\"].apply(lambda x: 1 if x == \"Male\" else 0)\n",
    "data = pd.get_dummies(data=data, columns=['smoking_status', 'work_type'], drop_first=True) # 다중 공선성 문제"
   ]
  },
  {
   "cell_type": "code",
   "execution_count": 10,
   "metadata": {},
   "outputs": [
    {
     "data": {
      "text/plain": [
       "Index(['gender', 'ever_married', 'Residence_type', 'age', 'hypertension',\n",
       "       'heart_disease', 'avg_glucose_level', 'bmi', 'stroke',\n",
       "       'smoking_status_formerly smoked', 'smoking_status_never smoked',\n",
       "       'smoking_status_smokes', 'work_type_Never_worked', 'work_type_Private',\n",
       "       'work_type_Self-employed', 'work_type_children'],\n",
       "      dtype='object')"
      ]
     },
     "execution_count": 10,
     "metadata": {},
     "output_type": "execute_result"
    }
   ],
   "source": [
    "data.columns"
   ]
  },
  {
   "cell_type": "code",
   "execution_count": 11,
   "metadata": {},
   "outputs": [],
   "source": [
    "X = data.drop(columns='stroke')\n",
    "y = data[['stroke']]"
   ]
  },
  {
   "cell_type": "code",
   "execution_count": 12,
   "metadata": {},
   "outputs": [],
   "source": [
    "X_train, X_test, y_train, y_test = train_test_split(X, y, test_size=0.25, stratify=data.stroke, \n",
    "                                                    shuffle=True, random_state=2021)"
   ]
  },
  {
   "cell_type": "code",
   "execution_count": 13,
   "metadata": {},
   "outputs": [
    {
     "data": {
      "text/plain": [
       "stroke    0.048513\n",
       "dtype: float64"
      ]
     },
     "execution_count": 13,
     "metadata": {},
     "output_type": "execute_result"
    }
   ],
   "source": [
    "y_test[y_test==1].sum()/len(y_test)\n",
    "# 비율을 지키면서 잘 되어땅. "
   ]
  },
  {
   "cell_type": "code",
   "execution_count": 14,
   "metadata": {},
   "outputs": [
    {
     "data": {
      "text/plain": [
       "stroke\n",
       "1.0       3645\n",
       "0.0       3645\n",
       "dtype: int64"
      ]
     },
     "execution_count": 14,
     "metadata": {},
     "output_type": "execute_result"
    }
   ],
   "source": [
    "samp = SMOTE()\n",
    "X,y = samp.fit_resample(X_train,y_train)\n",
    "y.value_counts()"
   ]
  },
  {
   "cell_type": "code",
   "execution_count": 15,
   "metadata": {
    "scrolled": true
   },
   "outputs": [
    {
     "name": "stdout",
     "output_type": "stream",
     "text": [
      "<class 'pandas.core.frame.DataFrame'>\n",
      "RangeIndex: 7290 entries, 0 to 7289\n",
      "Data columns (total 16 columns):\n",
      " #   Column                          Non-Null Count  Dtype  \n",
      "---  ------                          --------------  -----  \n",
      " 0   gender                          7290 non-null   int64  \n",
      " 1   ever_married                    7290 non-null   int64  \n",
      " 2   Residence_type                  7290 non-null   int64  \n",
      " 3   age                             7290 non-null   float64\n",
      " 4   hypertension                    7290 non-null   float64\n",
      " 5   heart_disease                   7290 non-null   float64\n",
      " 6   avg_glucose_level               7290 non-null   float64\n",
      " 7   bmi                             7290 non-null   float64\n",
      " 8   smoking_status_formerly smoked  7290 non-null   uint8  \n",
      " 9   smoking_status_never smoked     7290 non-null   uint8  \n",
      " 10  smoking_status_smokes           7290 non-null   uint8  \n",
      " 11  work_type_Never_worked          7290 non-null   uint8  \n",
      " 12  work_type_Private               7290 non-null   uint8  \n",
      " 13  work_type_Self-employed         7290 non-null   uint8  \n",
      " 14  work_type_children              7290 non-null   uint8  \n",
      " 15  stroke                          7290 non-null   float64\n",
      "dtypes: float64(6), int64(3), uint8(7)\n",
      "memory usage: 562.5 KB\n"
     ]
    }
   ],
   "source": [
    "df2 = pd.concat([X,y], axis=1)\n",
    "df2.info()"
   ]
  },
  {
   "cell_type": "code",
   "execution_count": 16,
   "metadata": {},
   "outputs": [],
   "source": [
    "X_train = df2.drop(columns='stroke')\n",
    "y_train = df2.stroke"
   ]
  },
  {
   "cell_type": "markdown",
   "metadata": {},
   "source": [
    "## 2) Modeling"
   ]
  },
  {
   "cell_type": "markdown",
   "metadata": {},
   "source": [
    "\n",
    "Precision은 정밀도로, True로 분류된 것 중 실제 True의 비율이다. TP/(TP+FP)\n",
    "\n",
    "Recall은 재현율로, 실제 True 중 모델이 True로 분류한 것의 비율이다. TP/(TP+FN)\n",
    "\n",
    "Accuracy는 정확도로, True를 True로 False를 False로 옳게 예측한 경우를 둘다 고려하는 지표이다. (TP+TN)/(TP+TN+FP+FN) "
   ]
  },
  {
   "cell_type": "markdown",
   "metadata": {},
   "source": [
    "### 뇌졸중 예측의 경우 FN(False Negative)가 치명적이다. 즉 뇌졸중에 걸린 케이스인데 아니라고 예측하는 것이 더 문제이다. 따라서 precision보다 recall을 우선시해야 한다. "
   ]
  },
  {
   "cell_type": "markdown",
   "metadata": {},
   "source": [
    "### AdaBoostClassifier"
   ]
  },
  {
   "cell_type": "code",
   "execution_count": 18,
   "metadata": {},
   "outputs": [],
   "source": [
    "abc = AdaBoostClassifier(random_state=2021).fit(X_train, y_train)\n",
    "abc_pred = abc.predict(X_test)"
   ]
  },
  {
   "cell_type": "code",
   "execution_count": 19,
   "metadata": {
    "scrolled": false
   },
   "outputs": [
    {
     "name": "stdout",
     "output_type": "stream",
     "text": [
      "[[1092  124]\n",
      " [  41   21]]\n",
      "Accuracy:  0.8708920187793427\n",
      "Precision:  0.14482758620689656\n",
      "Recall:  0.3387096774193548\n",
      "F1:  0.2028985507246377\n",
      "              precision    recall  f1-score   support\n",
      "\n",
      "       not 1       0.96      0.90      0.93      1216\n",
      "           1       0.14      0.34      0.20        62\n",
      "\n",
      "    accuracy                           0.87      1278\n",
      "   macro avg       0.55      0.62      0.57      1278\n",
      "weighted avg       0.92      0.87      0.89      1278\n",
      "\n"
     ]
    }
   ],
   "source": [
    "accuracy = accuracy_score(y_test, abc_pred)\n",
    "precision = precision_score(y_test,abc_pred)\n",
    "recall = recall_score(y_test,abc_pred)\n",
    "f1 = f1_score(y_test,abc_pred)\n",
    "\n",
    "print(confusion_matrix(y_test,abc_pred))\n",
    "print(\"Accuracy: \",accuracy)\n",
    "print(\"Precision: \",precision)\n",
    "print(\"Recall: \",recall)\n",
    "print(\"F1: \",f1)\n",
    "\n",
    "print(classification_report(y_test,abc_pred,target_names=['not 1','1']))"
   ]
  },
  {
   "cell_type": "code",
   "execution_count": 20,
   "metadata": {},
   "outputs": [
    {
     "data": {
      "text/plain": [
       "0.1134585289514867"
      ]
     },
     "execution_count": 20,
     "metadata": {},
     "output_type": "execute_result"
    }
   ],
   "source": [
    "abc_pred[abc_pred==1].sum()/len(abc_pred)"
   ]
  },
  {
   "cell_type": "markdown",
   "metadata": {},
   "source": [
    "세로 쪽이 real, 가로 쪽이 예측"
   ]
  },
  {
   "cell_type": "markdown",
   "metadata": {},
   "source": [
    "### RandomForestClassifier"
   ]
  },
  {
   "cell_type": "code",
   "execution_count": 21,
   "metadata": {},
   "outputs": [],
   "source": [
    "rf = RandomForestClassifier(random_state=2021).fit(X_train, y_train)\n",
    "rf_pred = rf.predict(X_test)"
   ]
  },
  {
   "cell_type": "code",
   "execution_count": 22,
   "metadata": {},
   "outputs": [
    {
     "name": "stdout",
     "output_type": "stream",
     "text": [
      "[[1167   49]\n",
      " [  53    9]]\n",
      "Accuracy:  0.92018779342723\n",
      "Precision:  0.15517241379310345\n",
      "Recall:  0.14516129032258066\n",
      "F1:  0.15000000000000002\n",
      "              precision    recall  f1-score   support\n",
      "\n",
      "       not 1       0.96      0.96      0.96      1216\n",
      "           1       0.16      0.15      0.15        62\n",
      "\n",
      "    accuracy                           0.92      1278\n",
      "   macro avg       0.56      0.55      0.55      1278\n",
      "weighted avg       0.92      0.92      0.92      1278\n",
      "\n"
     ]
    }
   ],
   "source": [
    "accuracy = accuracy_score(y_test, rf_pred)\n",
    "precision = precision_score(y_test,rf_pred)\n",
    "recall = recall_score(y_test,rf_pred)\n",
    "f1 = f1_score(y_test,rf_pred)\n",
    "\n",
    "print(confusion_matrix(y_test,rf_pred))\n",
    "print(\"Accuracy: \",accuracy)\n",
    "print(\"Precision: \",precision)\n",
    "print(\"Recall: \",recall)\n",
    "print(\"F1: \",f1)\n",
    "\n",
    "print(classification_report(y_test,rf_pred,target_names=['not 1','1']))"
   ]
  },
  {
   "cell_type": "markdown",
   "metadata": {},
   "source": [
    "## GradientBoostingClassifier"
   ]
  },
  {
   "cell_type": "code",
   "execution_count": 23,
   "metadata": {},
   "outputs": [],
   "source": [
    "gb = GradientBoostingClassifier(random_state=2021).fit(X_train, y_train)\n",
    "gb_pred = gb.predict(X_test)"
   ]
  },
  {
   "cell_type": "code",
   "execution_count": 24,
   "metadata": {},
   "outputs": [
    {
     "name": "stdout",
     "output_type": "stream",
     "text": [
      "[[1125   91]\n",
      " [  45   17]]\n",
      "Accuracy:  0.8935837245696401\n",
      "Precision:  0.1574074074074074\n",
      "Recall:  0.27419354838709675\n",
      "F1:  0.19999999999999998\n",
      "              precision    recall  f1-score   support\n",
      "\n",
      "       not 1       0.96      0.93      0.94      1216\n",
      "           1       0.16      0.27      0.20        62\n",
      "\n",
      "    accuracy                           0.89      1278\n",
      "   macro avg       0.56      0.60      0.57      1278\n",
      "weighted avg       0.92      0.89      0.91      1278\n",
      "\n"
     ]
    }
   ],
   "source": [
    "accuracy = accuracy_score(y_test, gb_pred)\n",
    "precision = precision_score(y_test,gb_pred)\n",
    "recall = recall_score(y_test,gb_pred)\n",
    "f1 = f1_score(y_test,gb_pred)\n",
    "\n",
    "print(confusion_matrix(y_test,gb_pred))\n",
    "print(\"Accuracy: \",accuracy)\n",
    "print(\"Precision: \",precision)\n",
    "print(\"Recall: \",recall)\n",
    "print(\"F1: \",f1)\n",
    "\n",
    "print(classification_report(y_test,gb_pred,target_names=['not 1','1']))"
   ]
  },
  {
   "cell_type": "markdown",
   "metadata": {},
   "source": [
    "## XGBClassifier"
   ]
  },
  {
   "cell_type": "code",
   "execution_count": 25,
   "metadata": {
    "scrolled": true
   },
   "outputs": [
    {
     "name": "stderr",
     "output_type": "stream",
     "text": [
      "C:\\Users\\dbdms\\Anaconda3\\lib\\site-packages\\dask\\config.py:168: YAMLLoadWarning: calling yaml.load() without Loader=... is deprecated, as the default Loader is unsafe. Please read https://msg.pyyaml.org/load for full details.\n",
      "  data = yaml.load(f.read()) or {}\n",
      "C:\\Users\\dbdms\\Anaconda3\\lib\\site-packages\\dask\\dataframe\\utils.py:13: FutureWarning: pandas.util.testing is deprecated. Use the functions in the public API at pandas.testing instead.\n",
      "  import pandas.util.testing as tm\n",
      "C:\\Users\\dbdms\\Anaconda3\\lib\\site-packages\\distributed\\config.py:20: YAMLLoadWarning: calling yaml.load() without Loader=... is deprecated, as the default Loader is unsafe. Please read https://msg.pyyaml.org/load for full details.\n",
      "  defaults = yaml.load(f)\n"
     ]
    }
   ],
   "source": [
    "import xgboost as xg\n",
    "xgb=xg.XGBClassifier(random_state=2021).fit(X_train, y_train)\n",
    "xgb_pred = xgb.predict(X_test)"
   ]
  },
  {
   "cell_type": "code",
   "execution_count": 26,
   "metadata": {
    "scrolled": false
   },
   "outputs": [
    {
     "name": "stdout",
     "output_type": "stream",
     "text": [
      "[[1168   48]\n",
      " [  52   10]]\n",
      "Accuracy:  0.9217527386541471\n",
      "Precision:  0.1724137931034483\n",
      "Recall:  0.16129032258064516\n",
      "F1:  0.16666666666666669\n",
      "              precision    recall  f1-score   support\n",
      "\n",
      "       not 1       0.96      0.96      0.96      1216\n",
      "           1       0.17      0.16      0.17        62\n",
      "\n",
      "    accuracy                           0.92      1278\n",
      "   macro avg       0.56      0.56      0.56      1278\n",
      "weighted avg       0.92      0.92      0.92      1278\n",
      "\n"
     ]
    }
   ],
   "source": [
    "accuracy = accuracy_score(y_test, xgb_pred)\n",
    "precision = precision_score(y_test,xgb_pred)\n",
    "recall = recall_score(y_test,xgb_pred)\n",
    "f1 = f1_score(y_test,xgb_pred)\n",
    "\n",
    "print(confusion_matrix(y_test,xgb_pred))\n",
    "print(\"Accuracy: \",accuracy)\n",
    "print(\"Precision: \",precision)\n",
    "print(\"Recall: \",recall)\n",
    "print(\"F1: \",f1)\n",
    "\n",
    "print(classification_report(y_test,xgb_pred,target_names=['not 1','1']))"
   ]
  },
  {
   "cell_type": "markdown",
   "metadata": {},
   "source": [
    "### Adaboost만 hyperparameter tuning 진행"
   ]
  },
  {
   "cell_type": "code",
   "execution_count": 27,
   "metadata": {},
   "outputs": [],
   "source": [
    "#from sklearn.model_selection import GridSearchCV\n",
    "#from sklearn.model_selection import KFold\n",
    "#crossvalidation=KFold(n_splits=5,shuffle=True,random_state=2021)"
   ]
  },
  {
   "cell_type": "code",
   "execution_count": 28,
   "metadata": {},
   "outputs": [],
   "source": [
    "#ada=AdaBoostClassifier(random_state=2021)\n",
    "#search_grid={'n_estimators':[100, 500, 700],'learning_rate':[0.1, 0.5, 1]}\n",
    "#search=GridSearchCV(estimator=ada,param_grid=search_grid,scoring='recall',n_jobs=1,cv=crossvalidation)"
   ]
  },
  {
   "cell_type": "code",
   "execution_count": 29,
   "metadata": {},
   "outputs": [],
   "source": [
    "#search.fit(X_train,y_train)\n",
    "#print(search.best_params_)\n",
    "#print(search.best_score_)"
   ]
  },
  {
   "cell_type": "markdown",
   "metadata": {},
   "source": [
    "### 그리드 서치... 별로다"
   ]
  },
  {
   "cell_type": "code",
   "execution_count": 30,
   "metadata": {},
   "outputs": [],
   "source": [
    "best = AdaBoostClassifier(learning_rate=0.1, n_estimators=95, random_state=2021).fit(X_train, y_train)\n",
    "best_pred = best.predict(X_test)"
   ]
  },
  {
   "cell_type": "code",
   "execution_count": 31,
   "metadata": {
    "scrolled": false
   },
   "outputs": [
    {
     "name": "stdout",
     "output_type": "stream",
     "text": [
      "[[1003  213]\n",
      " [  26   36]]\n",
      "Accuracy:  0.8129890453834115\n",
      "Precision:  0.14457831325301204\n",
      "Recall:  0.5806451612903226\n",
      "F1:  0.2315112540192926\n",
      "              precision    recall  f1-score   support\n",
      "\n",
      "       not 1       0.97      0.82      0.89      1216\n",
      "           1       0.14      0.58      0.23        62\n",
      "\n",
      "    accuracy                           0.81      1278\n",
      "   macro avg       0.56      0.70      0.56      1278\n",
      "weighted avg       0.93      0.81      0.86      1278\n",
      "\n"
     ]
    }
   ],
   "source": [
    "accuracy = accuracy_score(y_test, best_pred)\n",
    "precision = precision_score(y_test,best_pred)\n",
    "recall = recall_score(y_test,best_pred)\n",
    "f1 = f1_score(y_test,best_pred)\n",
    "print(confusion_matrix(y_test,best_pred))\n",
    "print(\"Accuracy: \",accuracy)\n",
    "print(\"Precision: \",precision)\n",
    "print(\"Recall: \",recall)\n",
    "print(\"F1: \",f1)\n",
    "print(classification_report(y_test,best_pred,target_names=['not 1','1']))"
   ]
  },
  {
   "cell_type": "markdown",
   "metadata": {},
   "source": [
    "f1이 가장 높은 건 러닝 0.1 n estimator 95"
   ]
  },
  {
   "cell_type": "code",
   "execution_count": 32,
   "metadata": {},
   "outputs": [],
   "source": [
    "best2 = AdaBoostClassifier(algorithm='SAMME', learning_rate=0.1, n_estimators=95, random_state=2021).fit(X_train, y_train)\n",
    "best2_pred = best2.predict(X_test)"
   ]
  },
  {
   "cell_type": "code",
   "execution_count": 33,
   "metadata": {
    "scrolled": false
   },
   "outputs": [
    {
     "name": "stdout",
     "output_type": "stream",
     "text": [
      "[[774 442]\n",
      " [  3  59]]\n",
      "              precision    recall  f1-score   support\n",
      "\n",
      "       not 1       1.00      0.64      0.78      1216\n",
      "           1       0.12      0.95      0.21        62\n",
      "\n",
      "    accuracy                           0.65      1278\n",
      "   macro avg       0.56      0.79      0.49      1278\n",
      "weighted avg       0.95      0.65      0.75      1278\n",
      "\n"
     ]
    }
   ],
   "source": [
    "print(confusion_matrix(y_test,best2_pred))\n",
    "print(classification_report(y_test,best2_pred,target_names=['not 1','1']))"
   ]
  },
  {
   "cell_type": "markdown",
   "metadata": {},
   "source": [
    "### RandomForest 진행"
   ]
  },
  {
   "cell_type": "code",
   "execution_count": 34,
   "metadata": {},
   "outputs": [],
   "source": [
    "rf2 = RandomForestClassifier(n_estimators=100, max_depth=2, min_samples_split=2, random_state=2021).fit(X_train, y_train)\n",
    "rf2_pred = rf2.predict(X_test)"
   ]
  },
  {
   "cell_type": "code",
   "execution_count": 35,
   "metadata": {
    "scrolled": true
   },
   "outputs": [
    {
     "name": "stdout",
     "output_type": "stream",
     "text": [
      "[[948 268]\n",
      " [ 17  45]]\n",
      "              precision    recall  f1-score   support\n",
      "\n",
      "       not 1       0.98      0.78      0.87      1216\n",
      "           1       0.14      0.73      0.24        62\n",
      "\n",
      "    accuracy                           0.78      1278\n",
      "   macro avg       0.56      0.75      0.55      1278\n",
      "weighted avg       0.94      0.78      0.84      1278\n",
      "\n"
     ]
    }
   ],
   "source": [
    "print(confusion_matrix(y_test,rf2_pred))\n",
    "print(classification_report(y_test,rf2_pred,target_names=['not 1','1']))"
   ]
  },
  {
   "cell_type": "markdown",
   "metadata": {},
   "source": [
    "## VotingClassifier"
   ]
  },
  {
   "cell_type": "code",
   "execution_count": 36,
   "metadata": {},
   "outputs": [],
   "source": [
    "from sklearn.ensemble import VotingClassifier\n",
    "vc = VotingClassifier(estimators=[('best', best),('rf2', rf2), ('best2', best2)], voting='soft').fit(X_train, y_train)\n",
    "vc_pred = vc.predict(X_test)"
   ]
  },
  {
   "cell_type": "code",
   "execution_count": 37,
   "metadata": {},
   "outputs": [
    {
     "name": "stdout",
     "output_type": "stream",
     "text": [
      "[[893 323]\n",
      " [ 12  50]]\n",
      "Accuracy:  0.7378716744913928\n",
      "Precision:  0.13404825737265416\n",
      "Recall:  0.8064516129032258\n",
      "F1:  0.2298850574712644\n",
      "              precision    recall  f1-score   support\n",
      "\n",
      "       not 1       0.99      0.73      0.84      1216\n",
      "           1       0.13      0.81      0.23        62\n",
      "\n",
      "    accuracy                           0.74      1278\n",
      "   macro avg       0.56      0.77      0.54      1278\n",
      "weighted avg       0.95      0.74      0.81      1278\n",
      "\n"
     ]
    }
   ],
   "source": [
    "accuracy = accuracy_score(y_test, vc_pred)\n",
    "precision = precision_score(y_test,vc_pred)\n",
    "recall = recall_score(y_test,vc_pred)\n",
    "f1 = f1_score(y_test,vc_pred)\n",
    "\n",
    "print(confusion_matrix(y_test,vc_pred))\n",
    "print(\"Accuracy: \",accuracy)\n",
    "print(\"Precision: \",precision)\n",
    "print(\"Recall: \",recall)\n",
    "print(\"F1: \",f1)\n",
    "\n",
    "print(classification_report(y_test,vc_pred,target_names=['not 1','1']))"
   ]
  },
  {
   "cell_type": "markdown",
   "metadata": {},
   "source": [
    "## 3) 결과해석: 뇌졸중의 원인은?"
   ]
  },
  {
   "cell_type": "code",
   "execution_count": 38,
   "metadata": {
    "scrolled": false
   },
   "outputs": [
    {
     "data": {
      "image/png": "[encoded data removed]",
      "text/plain": [
       "<Figure size 1440x1080 with 4 Axes>"
      ]
     },
     "metadata": {
      "needs_background": "light"
     },
     "output_type": "display_data"
    }
   ],
   "source": [
    "f,ax=plt.subplots(2,2,figsize=(20,15))\n",
    "\n",
    "pd.Series(best.feature_importances_,X_train.columns).sort_values(ascending=True).plot.barh(width=0.8,ax=ax[0,0])\n",
    "ax[0,0].set_title('Feature Importance in AdaBoost')\n",
    "\n",
    "pd.Series(rf2.feature_importances_,X_train.columns).sort_values(ascending=True).plot.barh(width=0.8,ax=ax[0,1],color='#ddff11')\n",
    "ax[0,1].set_title('Feature Importance in Random Forests')\n",
    "\n",
    "pd.Series(gb.feature_importances_,X_train.columns).sort_values(ascending=True).plot.barh(width=0.8,ax=ax[1,0],cmap='RdYlGn_r')\n",
    "ax[1,0].set_title('Feature Importance in Gradient Boosting')\n",
    "\n",
    "pd.Series(xgb.feature_importances_,X_train.columns).sort_values(ascending=True).plot.barh(width=0.8,ax=ax[1,1],color='#FD0F00')\n",
    "ax[1,1].set_title('Feature Importance in XgBoost')\n",
    "plt.show()"
   ]
  },
  {
   "cell_type": "code",
   "execution_count": 39,
   "metadata": {
    "scrolled": true
   },
   "outputs": [
    {
     "name": "stdout",
     "output_type": "stream",
     "text": [
      "[[948 268]\n",
      " [ 17  45]]\n"
     ]
    }
   ],
   "source": [
    "cf_matrix = confusion_matrix(y_test,rf2_pred)\n",
    "print(cf_matrix)"
   ]
  },
  {
   "cell_type": "code",
   "execution_count": 40,
   "metadata": {},
   "outputs": [
    {
     "data": {
      "text/plain": [
       "<matplotlib.axes._subplots.AxesSubplot at 0x1be0708aac8>"
      ]
     },
     "execution_count": 40,
     "metadata": {},
     "output_type": "execute_result"
    },
    {
     "data": {
      "image/png": "[encoded data removed]",
      "text/plain": [
       "<Figure size 432x288 with 2 Axes>"
      ]
     },
     "metadata": {
      "needs_background": "light"
     },
     "output_type": "display_data"
    }
   ],
   "source": [
    "sns.heatmap(cf_matrix, annot=True, fmt='',cmap='Blues')"
   ]
  },
  {
   "cell_type": "code",
   "execution_count": 41,
   "metadata": {
    "scrolled": true
   },
   "outputs": [
    {
     "data": {
      "text/plain": [
       "<matplotlib.axes._subplots.AxesSubplot at 0x1be07304d30>"
      ]
     },
     "execution_count": 41,
     "metadata": {},
     "output_type": "execute_result"
    },
    {
     "data": {
      "image/png": "[encoded data removed]",
      "text/plain": [
       "<Figure size 432x288 with 2 Axes>"
      ]
     },
     "metadata": {
      "needs_background": "light"
     },
     "output_type": "display_data"
    }
   ],
   "source": [
    "sns.heatmap(cf_matrix/np.sum(cf_matrix), annot=True, fmt='.2%', cmap='Blues')"
   ]
  },
  {
   "cell_type": "code",
   "execution_count": 42,
   "metadata": {},
   "outputs": [
    {
     "data": {
      "text/plain": [
       "<matplotlib.axes._subplots.AxesSubplot at 0x1be0738eda0>"
      ]
     },
     "execution_count": 42,
     "metadata": {},
     "output_type": "execute_result"
    },
    {
     "data": {
      "image/png": "[encoded data removed]",
      "text/plain": [
       "<Figure size 432x288 with 2 Axes>"
      ]
     },
     "metadata": {
      "needs_background": "light"
     },
     "output_type": "display_data"
    }
   ],
   "source": [
    "labels = ['True Neg','False Pos','False Neg','True Pos']\n",
    "labels = np.asarray(labels).reshape(2,2)\n",
    "sns.heatmap(cf_matrix, annot=labels, fmt='',cmap='Blues')"
   ]
  },
  {
   "cell_type": "code",
   "execution_count": null,
   "metadata": {},
   "outputs": [],
   "source": [
    "feature_importance = np.array(abc.feature_importances_)\n",
    "feature_names = np.array(X_train.columns)\n",
    "\n",
    "feat_imp = pd.DataFrame({'feature_names':feature_names,\n",
    "                         'feature_importance':feature_importance})\n",
    "\n",
    "plt.figure(figsize=(8,6.4))\n",
    "sns.barplot(x=feat_imp['feature_importance'],y=feat_imp['feature_names'])"
   ]
  },
  {
   "cell_type": "code",
   "execution_count": 57,
   "metadata": {},
   "outputs": [
    {
     "data": {
      "image/png": "[encoded data removed]",
      "text/plain": [
       "<Figure size 576x460.8 with 1 Axes>"
      ]
     },
     "metadata": {
      "needs_background": "light"
     },
     "output_type": "display_data"
    }
   ],
   "source": [
    "plt.figure(figsize=(8,6.4))\n",
    "pd.Series(best2.feature_importances_,X_train.columns).sort_values(ascending=True).plot.barh(width=0.8, color='#FD0F00').set_title('Feature Importance in Adaboost 1')\n",
    "plt.show()"
   ]
  },
  {
   "cell_type": "code",
   "execution_count": 58,
   "metadata": {},
   "outputs": [
    {
     "data": {
      "image/png": "[encoded data removed]",
      "text/plain": [
       "<Figure size 576x460.8 with 1 Axes>"
      ]
     },
     "metadata": {
      "needs_background": "light"
     },
     "output_type": "display_data"
    }
   ],
   "source": [
    "plt.figure(figsize=(8,6.4))\n",
    "pd.Series(best.feature_importances_,X_train.columns).sort_values(ascending=True).plot.barh(width=0.8).set_title('Feature Importance in Adaboost 2')\n",
    "plt.show()"
   ]
  },
  {
   "cell_type": "code",
   "execution_count": 56,
   "metadata": {},
   "outputs": [
    {
     "data": {
      "image/png": "[encoded data removed]",
      "text/plain": [
       "<Figure size 576x460.8 with 1 Axes>"
      ]
     },
     "metadata": {
      "needs_background": "light"
     },
     "output_type": "display_data"
    }
   ],
   "source": [
    "plt.figure(figsize=(8,6.4))\n",
    "pd.Series(rf2.feature_importances_,X_train.columns).sort_values(ascending=True).plot.barh(width=0.8, cmap='RdYlGn_r').set_title('Feature Importance in randomforest')\n",
    "plt.show()"
   ]
  },
  {
   "cell_type": "code",
   "execution_count": null,
   "metadata": {},
   "outputs": [],
   "source": []
  }
 ],
 "metadata": {
  "kernelspec": {
   "display_name": "Python 3 (ipykernel)",
   "language": "python",
   "name": "python3"
  },
  "language_info": {
   "codemirror_mode": {
    "name": "ipython",
    "version": 3
   },
   "file_extension": ".py",
   "mimetype": "text/x-python",
   "name": "python",
   "nbconvert_exporter": "python",
   "pygments_lexer": "ipython3",
   "version": "3.9.7"
  }
 },
 "nbformat": 4,
 "nbformat_minor": 2
}
